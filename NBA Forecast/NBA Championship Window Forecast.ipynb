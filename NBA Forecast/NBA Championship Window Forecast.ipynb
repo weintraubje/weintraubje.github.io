{
 "cells": [
  {
   "cell_type": "markdown",
   "id": "1db32cb4",
   "metadata": {},
   "source": [
    "# NBA Championship Window Forecast\n",
    "\n",
    "The NBA has a lot of data, and it's pretty messy, so here's another project!\n",
    "\n",
    "The goal here is to see how well the team can perform going into the future with the current roster. Salary cap space will be taken into account and provide a \"generic\" amount of WAR/RAPTOR value.\n",
    "\n",
    "Steps:\n",
    "\n",
    "1. Import player data, contracts, and ability to extend\n",
    "2. Compute \"peak\" age of a NBA player\n",
    "    1. Using historical data, create a way to identify the expected change to a players WAR/RAPTOR as they age.\n",
    "    2. Segment by multiple variables\n",
    "        1. Percentage of minutes played at each position\n",
    "        2. Some ratio of weight to height\n",
    "        3. Physicality measure such as shooting/offensive fouls drawn\n",
    "3. Show how the team will age, teams such as the Celtics should be the highest ranked because of Tatum/Brown/Williams/Smart/Williams all being under contract and being young, while teams like the Warriors would have a shorter window due to Curry/Klay/Draymond aging out."
   ]
  }
 ],
 "metadata": {
  "kernelspec": {
   "display_name": "Python 3 (ipykernel)",
   "language": "python",
   "name": "python3"
  },
  "language_info": {
   "codemirror_mode": {
    "name": "ipython",
    "version": 3
   },
   "file_extension": ".py",
   "mimetype": "text/x-python",
   "name": "python",
   "nbconvert_exporter": "python",
   "pygments_lexer": "ipython3",
   "version": "3.10.2"
  }
 },
 "nbformat": 4,
 "nbformat_minor": 5
}
